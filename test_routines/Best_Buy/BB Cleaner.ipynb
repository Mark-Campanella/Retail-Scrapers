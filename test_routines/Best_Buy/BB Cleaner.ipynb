{
 "cells": [
  {
   "cell_type": "markdown",
   "metadata": {},
   "source": [
    "# Cleaning Best Buy Products "
   ]
  },
  {
   "cell_type": "code",
   "execution_count": 2,
   "metadata": {},
   "outputs": [],
   "source": [
    "import pandas as pd\n",
    "import numpy as np\n",
    "import re\n",
    "from fractions import Fraction"
   ]
  },
  {
   "cell_type": "code",
   "execution_count": 19,
   "metadata": {},
   "outputs": [],
   "source": [
    "df = pd.read_csv(\"..\\\\..\\\\outputs\\\\Best_Buy\\\\test_product_data.csv\")"
   ]
  },
  {
   "cell_type": "code",
   "execution_count": null,
   "metadata": {},
   "outputs": [],
   "source": [
    "# Função para limpar a coluna 'Review Amount'\n",
    "def clean_reviews(reviews):\n",
    "    if isinstance(reviews, str):\n",
    "        if 'be the first to write a review' in reviews:\n",
    "            return 0\n",
    "        else:\n",
    "            # Usar regex para remover todos os caracteres não numéricos\n",
    "            reviews = re.sub(r'\\D', '', reviews)\n",
    "            return reviews\n",
    "    return reviews\n",
    "# Função para limpar a coluna 'Description'\n",
    "def clean_brackets(text):\n",
    "    # Adicione qualquer lógica de limpeza específica para a coluna 'Description' aqui\n",
    "    return text.replace('[','').replace(']','')  # Exemplo de limpeza simples (remover espaços em branco)\n",
    "\n",
    "# Função para remover 'cubic feet' das colunas 'Capacity' e 'Dryer Capacity'\n",
    "def clean_capacity(capacity):\n",
    "    if isinstance(capacity, str):\n",
    "        return capacity.replace(' cubic feet', '').strip()\n",
    "    return capacity\n",
    "\n",
    "def fill_brand_from_name(row):\n",
    "    if pd.isna(row['Brand']):\n",
    "        row['Brand'] = row['Name'].split()[0]\n",
    "    return row\n",
    "\n",
    "# Cleans SKU, Creates OBX column\n",
    "def clean_SKU(sku):\n",
    "    if 'obx' in sku:\n",
    "        return 'Yes', sku.replace('obx ', '').strip()\n",
    "    return '', sku\n",
    "\n",
    "def convert_to_decimal(value):\n",
    "    # remove inches\n",
    "    value = value.replace(' inches', '').strip()\n",
    "    \n",
    "    # If there is a space → there is a fraction\n",
    "    if ' ' in value:\n",
    "        parts = value.split()\n",
    "        # convert fraction into decimal\n",
    "        whole = float(parts[0])\n",
    "        fraction = float(Fraction(parts[1]))\n",
    "        return round(whole + fraction, 2)\n",
    "    else:\n",
    "        return round(float(value), 2)\n",
    "\n",
    "\n",
    "\n",
    "\n",
    "\n",
    "\n",
    "df = df.dropna(axis=1, how = 'all')\n",
    "df = df.dropna(axis=0, how = 'all')\n",
    "\n",
    "\n",
    "df = df.apply(fill_brand_from_name, axis=1)\n",
    "\n",
    "df['Description'] = df['Description'].apply(clean_brackets)\n",
    "df['More Images Links'] = df['More Images Links'].apply(clean_brackets)\n",
    "df['Videos Links'] = df['Videos Links'].apply(clean_brackets)\n",
    "\n",
    "df['Review Amount'] = df['Review Amount'].apply(clean_reviews)\n",
    "\n",
    "df['Capacity'] = df['Capacity'].apply(clean_capacity)\n",
    "df['Dryer Capacity'] = df['Dryer Capacity'].apply(clean_capacity)\n",
    "df['Washer Capacity'] = df['Washer Capacity'].apply(clean_capacity)\n",
    "df['Capacity'] = df['Capacity'].fillna(df['Washer Capacity'])\n",
    "df['Capacity'] = df['Capacity'].fillna(df['Dryer Capacity'])\n",
    "\n",
    "df['Product Depth'] = df['Product Depth'].apply(convert_to_decimal)\n",
    "df['Product Height'] = df['Product Height'].apply(convert_to_decimal)\n",
    "df['Product Width'] = df['Product Width'].apply(convert_to_decimal)\n",
    "\n",
    "\n",
    "df['SKU'] = df['SKU'].astype(str)\n",
    "df['SKU'] = df['SKU'].str.lower()\n",
    "df[['OBX', 'SKU']] = df['SKU'].apply(lambda x: pd.Series(clean_SKU(x)))\n",
    "\n",
    "#ASK IF:\n",
    "#df['Voltage'] = df['Voltage'].fillna(df['Washer Voltage'])\n",
    "\n",
    "df.head()"
   ]
  },
  {
   "cell_type": "code",
   "execution_count": 58,
   "metadata": {},
   "outputs": [],
   "source": [
    "df.to_csv('../../outputs/product_cleaned.csv')"
   ]
  }
 ],
 "metadata": {
  "kernelspec": {
   "display_name": "Python 3",
   "language": "python",
   "name": "python3"
  },
  "language_info": {
   "codemirror_mode": {
    "name": "ipython",
    "version": 3
   },
   "file_extension": ".py",
   "mimetype": "text/x-python",
   "name": "python",
   "nbconvert_exporter": "python",
   "pygments_lexer": "ipython3",
   "version": "3.12.3"
  }
 },
 "nbformat": 4,
 "nbformat_minor": 2
}
