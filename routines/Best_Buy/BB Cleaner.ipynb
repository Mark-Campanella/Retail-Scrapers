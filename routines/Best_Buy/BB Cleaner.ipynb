{
 "cells": [
  {
   "cell_type": "markdown",
   "metadata": {},
   "source": [
    "# Cleaning Best Buy Products "
   ]
  },
  {
   "cell_type": "code",
   "execution_count": 7,
   "metadata": {},
   "outputs": [],
   "source": [
    "import pandas as pd\n",
    "import numpy as np\n",
    "import re"
   ]
  },
  {
   "cell_type": "code",
   "execution_count": 16,
   "metadata": {},
   "outputs": [],
   "source": [
    "df = pd.read_csv(\"..\\\\..\\\\outputs\\\\Best_Buy\\\\test_product_data.csv\")"
   ]
  },
  {
   "cell_type": "code",
   "execution_count": null,
   "metadata": {},
   "outputs": [],
   "source": [
    "# Função para limpar a coluna 'Review Amount'\n",
    "def clean_reviews(reviews):\n",
    "    if isinstance(reviews, str):\n",
    "        if 'be the first to write a review' in reviews:\n",
    "            return 0\n",
    "        else:\n",
    "            # Usar regex para remover todos os caracteres não numéricos\n",
    "            reviews = re.sub(r'\\D', '', reviews)\n",
    "            return reviews\n",
    "    return reviews\n",
    "# Função para limpar a coluna 'Description'\n",
    "def clean_description(description):\n",
    "    # Adicione qualquer lógica de limpeza específica para a coluna 'Description' aqui\n",
    "    return description.replace('[','').replace(']','')  # Exemplo de limpeza simples (remover espaços em branco)\n",
    "\n",
    "# Função para remover 'cubic feet' das colunas 'Capacity' e 'Dryer Capacity'\n",
    "def clean_capacity(capacity):\n",
    "    if isinstance(capacity, str):\n",
    "        return capacity.replace(' cubic feet', '').strip()\n",
    "    return capacity\n",
    "\n",
    "def fill_brand_from_name(row):\n",
    "    if pd.isna(row['Brand']):\n",
    "        row['Brand'] = row['Name'].split()[0]\n",
    "    return row\n",
    "\n",
    "df = df.dropna(axis=1, how = 'all')\n",
    "df = df.dropna(axis=0, how = 'all')\n",
    "df = df.apply(fill_brand_from_name, axis=1)\n",
    "df['Description'] = df['Description'].apply(clean_description)\n",
    "df['Review Amount'] = df['Review Amount'].apply(clean_reviews)\n",
    "df['Capacity'] = df['Capacity'].apply(clean_capacity)\n",
    "df['Dryer Capacity'] = df['Dryer Capacity'].apply(clean_capacity)\n",
    "df['Washer Capacity'] = df['Washer Capacity'].apply(clean_capacity)\n",
    "df['Capacity'] = df['Capacity'].fillna(df['Washer Capacity'])\n",
    "df['Capacity'] = df['Capacity'].fillna(df['Dryer Capacity'])\n",
    "df['SKU'] = df['SKU'].astype(str)\n",
    "df['SKU'] = df['SKU'].str.lower()\n",
    "df.head()"
   ]
  },
  {
   "cell_type": "code",
   "execution_count": 58,
   "metadata": {},
   "outputs": [],
   "source": [
    "df.to_csv('../../outputs/product_cleaned.csv')"
   ]
  }
 ],
 "metadata": {
  "kernelspec": {
   "display_name": "Python 3",
   "language": "python",
   "name": "python3"
  },
  "language_info": {
   "codemirror_mode": {
    "name": "ipython",
    "version": 3
   },
   "file_extension": ".py",
   "mimetype": "text/x-python",
   "name": "python",
   "nbconvert_exporter": "python",
   "pygments_lexer": "ipython3",
   "version": "3.12.3"
  }
 },
 "nbformat": 4,
 "nbformat_minor": 2
}
